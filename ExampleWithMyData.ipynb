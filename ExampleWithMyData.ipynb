{
 "cells": [
  {
   "cell_type": "code",
   "execution_count": 45,
   "id": "63952c6c",
   "metadata": {},
   "outputs": [],
   "source": [
    "import pandas as pd\n",
    "import matplotlib.pyplot as plt\n",
    "import matplotlib as mpl\n",
    "mpl.rc('axes', labelsize=14)\n",
    "mpl.rc('xtick', labelsize=12)\n",
    "mpl.rc('ytick', labelsize=12)"
   ]
  },
  {
   "cell_type": "code",
   "execution_count": 46,
   "id": "decd16e8",
   "metadata": {
    "scrolled": true
   },
   "outputs": [],
   "source": [
    "df = pd.read_csv('dataset.csv')\n",
    "X = df.drop('Unnamed: 0',axis=1)"
   ]
  },
  {
   "cell_type": "code",
   "execution_count": 47,
   "id": "35123644",
   "metadata": {},
   "outputs": [
    {
     "data": {
      "text/html": [
       "<div>\n",
       "<style scoped>\n",
       "    .dataframe tbody tr th:only-of-type {\n",
       "        vertical-align: middle;\n",
       "    }\n",
       "\n",
       "    .dataframe tbody tr th {\n",
       "        vertical-align: top;\n",
       "    }\n",
       "\n",
       "    .dataframe thead th {\n",
       "        text-align: right;\n",
       "    }\n",
       "</style>\n",
       "<table border=\"1\" class=\"dataframe\">\n",
       "  <thead>\n",
       "    <tr style=\"text-align: right;\">\n",
       "      <th></th>\n",
       "      <th>Hidráulica</th>\n",
       "      <th>Eólica</th>\n",
       "      <th>Solar Fotovoltaica</th>\n",
       "      <th>Solar Térmica</th>\n",
       "      <th>Otras Renovables</th>\n",
       "      <th>Residuos Renovables</th>\n",
       "      <th>Nuclear</th>\n",
       "      <th>Turbinación bombeo</th>\n",
       "      <th>Ciclo combinado</th>\n",
       "      <th>Carbón</th>\n",
       "      <th>Fuel-gas</th>\n",
       "      <th>Cogeneración</th>\n",
       "      <th>Residuos no renovables</th>\n",
       "      <th>EUA SPOT</th>\n",
       "      <th>Demanda real</th>\n",
       "      <th>TTF GAS</th>\n",
       "      <th>Saldo Interconexiones</th>\n",
       "      <th>Price</th>\n",
       "    </tr>\n",
       "  </thead>\n",
       "  <tbody>\n",
       "    <tr>\n",
       "      <th>0</th>\n",
       "      <td>2668.203</td>\n",
       "      <td>5788.224</td>\n",
       "      <td>0.050</td>\n",
       "      <td>15.815</td>\n",
       "      <td>359.722</td>\n",
       "      <td>186.340</td>\n",
       "      <td>7107.798</td>\n",
       "      <td>71.806</td>\n",
       "      <td>3775.267</td>\n",
       "      <td>5004.822</td>\n",
       "      <td>0.0</td>\n",
       "      <td>1527.712</td>\n",
       "      <td>149.386</td>\n",
       "      <td>6.99</td>\n",
       "      <td>24511.500000</td>\n",
       "      <td>20.275</td>\n",
       "      <td>-1773.906</td>\n",
       "      <td>48.10</td>\n",
       "    </tr>\n",
       "    <tr>\n",
       "      <th>1</th>\n",
       "      <td>2382.211</td>\n",
       "      <td>5368.731</td>\n",
       "      <td>0.045</td>\n",
       "      <td>15.799</td>\n",
       "      <td>358.945</td>\n",
       "      <td>187.789</td>\n",
       "      <td>7113.883</td>\n",
       "      <td>25.789</td>\n",
       "      <td>3452.924</td>\n",
       "      <td>4817.315</td>\n",
       "      <td>0.0</td>\n",
       "      <td>1515.046</td>\n",
       "      <td>148.494</td>\n",
       "      <td>6.99</td>\n",
       "      <td>22866.166667</td>\n",
       "      <td>20.275</td>\n",
       "      <td>-1942.838</td>\n",
       "      <td>47.33</td>\n",
       "    </tr>\n",
       "    <tr>\n",
       "      <th>2</th>\n",
       "      <td>1690.844</td>\n",
       "      <td>5150.656</td>\n",
       "      <td>0.051</td>\n",
       "      <td>15.774</td>\n",
       "      <td>351.918</td>\n",
       "      <td>186.181</td>\n",
       "      <td>7110.093</td>\n",
       "      <td>82.638</td>\n",
       "      <td>2907.244</td>\n",
       "      <td>4292.156</td>\n",
       "      <td>0.0</td>\n",
       "      <td>1514.132</td>\n",
       "      <td>151.826</td>\n",
       "      <td>6.99</td>\n",
       "      <td>21392.833333</td>\n",
       "      <td>20.275</td>\n",
       "      <td>-1165.379</td>\n",
       "      <td>42.27</td>\n",
       "    </tr>\n",
       "    <tr>\n",
       "      <th>3</th>\n",
       "      <td>1556.983</td>\n",
       "      <td>4835.700</td>\n",
       "      <td>0.043</td>\n",
       "      <td>7.862</td>\n",
       "      <td>347.058</td>\n",
       "      <td>178.637</td>\n",
       "      <td>7110.581</td>\n",
       "      <td>160.241</td>\n",
       "      <td>2721.058</td>\n",
       "      <td>3923.423</td>\n",
       "      <td>0.0</td>\n",
       "      <td>1513.983</td>\n",
       "      <td>147.574</td>\n",
       "      <td>6.99</td>\n",
       "      <td>20319.666667</td>\n",
       "      <td>20.275</td>\n",
       "      <td>-889.173</td>\n",
       "      <td>38.41</td>\n",
       "    </tr>\n",
       "    <tr>\n",
       "      <th>4</th>\n",
       "      <td>1510.068</td>\n",
       "      <td>4497.805</td>\n",
       "      <td>0.074</td>\n",
       "      <td>0.000</td>\n",
       "      <td>342.252</td>\n",
       "      <td>169.560</td>\n",
       "      <td>7110.582</td>\n",
       "      <td>233.965</td>\n",
       "      <td>2629.251</td>\n",
       "      <td>3655.118</td>\n",
       "      <td>0.0</td>\n",
       "      <td>1515.884</td>\n",
       "      <td>148.207</td>\n",
       "      <td>6.99</td>\n",
       "      <td>19923.000000</td>\n",
       "      <td>20.275</td>\n",
       "      <td>-294.821</td>\n",
       "      <td>35.72</td>\n",
       "    </tr>\n",
       "  </tbody>\n",
       "</table>\n",
       "</div>"
      ],
      "text/plain": [
       "   Hidráulica    Eólica  Solar Fotovoltaica  Solar Térmica  Otras Renovables  \\\n",
       "0    2668.203  5788.224               0.050         15.815           359.722   \n",
       "1    2382.211  5368.731               0.045         15.799           358.945   \n",
       "2    1690.844  5150.656               0.051         15.774           351.918   \n",
       "3    1556.983  4835.700               0.043          7.862           347.058   \n",
       "4    1510.068  4497.805               0.074          0.000           342.252   \n",
       "\n",
       "   Residuos Renovables   Nuclear  Turbinación bombeo  Ciclo combinado  \\\n",
       "0              186.340  7107.798              71.806         3775.267   \n",
       "1              187.789  7113.883              25.789         3452.924   \n",
       "2              186.181  7110.093              82.638         2907.244   \n",
       "3              178.637  7110.581             160.241         2721.058   \n",
       "4              169.560  7110.582             233.965         2629.251   \n",
       "\n",
       "     Carbón  Fuel-gas  Cogeneración  Residuos no renovables  EUA SPOT  \\\n",
       "0  5004.822       0.0      1527.712                 149.386      6.99   \n",
       "1  4817.315       0.0      1515.046                 148.494      6.99   \n",
       "2  4292.156       0.0      1514.132                 151.826      6.99   \n",
       "3  3923.423       0.0      1513.983                 147.574      6.99   \n",
       "4  3655.118       0.0      1515.884                 148.207      6.99   \n",
       "\n",
       "   Demanda real  TTF GAS  Saldo Interconexiones  Price  \n",
       "0  24511.500000   20.275              -1773.906  48.10  \n",
       "1  22866.166667   20.275              -1942.838  47.33  \n",
       "2  21392.833333   20.275              -1165.379  42.27  \n",
       "3  20319.666667   20.275               -889.173  38.41  \n",
       "4  19923.000000   20.275               -294.821  35.72  "
      ]
     },
     "execution_count": 47,
     "metadata": {},
     "output_type": "execute_result"
    }
   ],
   "source": [
    "X.head()"
   ]
  },
  {
   "cell_type": "code",
   "execution_count": 48,
   "id": "2db9e3b7",
   "metadata": {},
   "outputs": [],
   "source": [
    "from sklearn.preprocessing import StandardScaler, MinMaxScaler\n",
    "\n",
    "scaler = MinMaxScaler()\n",
    "scaled_df = scaler.fit_transform(X)\n",
    "scaled_df = pd.DataFrame(scaled_df)\n",
    "\n",
    "data = scaled_df.values\n",
    "\n",
    "#utilizar ultimos datos de solar\n",
    "#escalara la y con minmax"
   ]
  },
  {
   "cell_type": "code",
   "execution_count": 49,
   "id": "5dde7469",
   "metadata": {},
   "outputs": [
    {
     "data": {
      "text/plain": [
       "(52606, 18)"
      ]
     },
     "execution_count": 49,
     "metadata": {},
     "output_type": "execute_result"
    }
   ],
   "source": [
    "data.shape"
   ]
  },
  {
   "cell_type": "code",
   "execution_count": 50,
   "id": "aebf7211",
   "metadata": {},
   "outputs": [
    {
     "data": {
      "text/plain": [
       "(52414, 192, 18)"
      ]
     },
     "execution_count": 50,
     "metadata": {},
     "output_type": "execute_result"
    }
   ],
   "source": [
    "n_steps = 168 # 168 horas son 7 dias\n",
    "\n",
    "#Creamos grupos de 7 dias + 1 dia de nuestros datos\n",
    "series_reshaped =  np.array([data[i:i + (n_steps+24)].copy() for i in range(len(data) - (n_steps+24))])\n",
    "\n",
    "#series_reshaped es el dataframe subdividido en una array de grupos de filas de 192 (8 dias)\n",
    "series_reshaped.shape"
   ]
  },
  {
   "cell_type": "code",
   "execution_count": 51,
   "id": "b35380fe",
   "metadata": {},
   "outputs": [],
   "source": [
    "#Alberto por que usa X_valid y X_test?"
   ]
  },
  {
   "cell_type": "markdown",
   "id": "67be9cf1",
   "metadata": {},
   "source": [
    "– Training set: A set of examples used for learning, that is to fit the parameters of the classifier.\n",
    "\n",
    "– Validation set: A set of examples used to tune the parameters of a classifier, for example to choose the number of hidden units in a neural network.\n",
    "\n",
    "– Test set: A set of examples used only to assess the performance of a fully-specified classifier."
   ]
  },
  {
   "cell_type": "code",
   "execution_count": 52,
   "id": "faa7e4ae",
   "metadata": {},
   "outputs": [],
   "source": [
    "#Coge los primeros 5 años. En subgrupos de 168 filas (7 dias)\n",
    "X_train = series_reshaped[:43800, :n_steps]\n",
    "#Hace lo mismo para el año 6.\n",
    "X_valid = series_reshaped[43800:52414, :n_steps]\n",
    "\n",
    "#Creamos un array vacio donde guardar los precios de la electricidad de las proximas 24 horas\n",
    "Y = np.empty((52414, n_steps, 24))\n",
    "#series_reshaped seleccionamos los precios de la electricidad con features 0\n",
    "#de cada bloque de 168 de horas seleccionamos las siguientes 24 horas.\n",
    "for step_ahead in range(1, 24 + 1):\n",
    "    Y[..., step_ahead - 1] = series_reshaped[..., step_ahead:step_ahead + n_steps, 17]\n",
    "    \n",
    "#Idem que antes\n",
    "Y_train = Y[:43800]\n",
    "Y_valid = Y[43800:52560]\n",
    "\n",
    "#the X training data is 168 hours of the past of all commodities, \n",
    "#and the Y training data is 24 hours of prices, into the future."
   ]
  },
  {
   "cell_type": "code",
   "execution_count": 53,
   "id": "f541ec1d",
   "metadata": {},
   "outputs": [
    {
     "data": {
      "text/plain": [
       "((43800, 168, 18), (43800, 168, 24))"
      ]
     },
     "execution_count": 53,
     "metadata": {},
     "output_type": "execute_result"
    }
   ],
   "source": [
    "X_train.shape, Y_train.shape"
   ]
  },
  {
   "cell_type": "code",
   "execution_count": 54,
   "id": "8cf781aa",
   "metadata": {},
   "outputs": [
    {
     "data": {
      "text/plain": [
       "((8614, 168, 18), (8614, 168, 24))"
      ]
     },
     "execution_count": 54,
     "metadata": {},
     "output_type": "execute_result"
    }
   ],
   "source": [
    "X_valid.shape, Y_valid.shape"
   ]
  },
  {
   "cell_type": "markdown",
   "id": "5795f468",
   "metadata": {},
   "source": [
    "# SimpleRNN"
   ]
  },
  {
   "cell_type": "code",
   "execution_count": 55,
   "id": "8b711d5e",
   "metadata": {},
   "outputs": [],
   "source": [
    "from keras import Sequential\n",
    "from keras.layers import Dense, LSTM\n",
    "from keras.callbacks import EarlyStopping\n",
    "\n",
    "import tensorflow as tf\n",
    "from tensorflow import keras"
   ]
  },
  {
   "cell_type": "code",
   "execution_count": 56,
   "id": "c4586d54",
   "metadata": {},
   "outputs": [],
   "source": [
    "es = EarlyStopping(monitor = 'val_loss')"
   ]
  },
  {
   "cell_type": "code",
   "execution_count": 57,
   "id": "3700bc02",
   "metadata": {},
   "outputs": [],
   "source": [
    "np.random.seed(42)\n",
    "tf.random.set_seed(42)\n",
    "\n",
    "model6 = keras.models.Sequential([\n",
    "    keras.layers.SimpleRNN(20, return_sequences=True, input_shape=[None,18]),\n",
    "    keras.layers.SimpleRNN(20, return_sequences=True),\n",
    "    keras.layers.TimeDistributed(keras.layers.Dense(24))\n",
    "])\n",
    "\n",
    "model6.compile(loss=\"mape\", optimizer=\"adam\")"
   ]
  },
  {
   "cell_type": "code",
   "execution_count": 58,
   "id": "c131bde5",
   "metadata": {},
   "outputs": [
    {
     "name": "stdout",
     "output_type": "stream",
     "text": [
      "Epoch 1/20\n",
      "1369/1369 [==============================] - 151s 110ms/step - loss: 1298.3960 - val_loss: 98.2682\n",
      "Epoch 2/20\n",
      "1369/1369 [==============================] - 67s 49ms/step - loss: 607.5964 - val_loss: 93.3789\n",
      "Epoch 3/20\n",
      "1369/1369 [==============================] - 42s 30ms/step - loss: 466.7235 - val_loss: 88.0753\n",
      "Epoch 4/20\n",
      "1369/1369 [==============================] - 42s 30ms/step - loss: 350.5874 - val_loss: 85.2848\n",
      "Epoch 5/20\n",
      "1369/1369 [==============================] - 42s 30ms/step - loss: 250.2636 - val_loss: 82.9781\n",
      "Epoch 6/20\n",
      "1369/1369 [==============================] - 42s 31ms/step - loss: 219.1961 - val_loss: 80.3372\n",
      "Epoch 7/20\n",
      "1369/1369 [==============================] - 42s 30ms/step - loss: 191.1115 - val_loss: 80.4311\n",
      "Epoch 8/20\n",
      "1369/1369 [==============================] - 42s 30ms/step - loss: 188.2479 - val_loss: 84.9488\n",
      "Epoch 9/20\n",
      "1369/1369 [==============================] - 42s 30ms/step - loss: 182.6570 - val_loss: 88.9112\n",
      "Epoch 10/20\n",
      "1369/1369 [==============================] - 42s 31ms/step - loss: 158.6531 - val_loss: 84.5384\n",
      "Epoch 11/20\n",
      "1369/1369 [==============================] - 42s 30ms/step - loss: 154.8122 - val_loss: 83.8601\n",
      "Epoch 12/20\n",
      "1369/1369 [==============================] - 41s 30ms/step - loss: 147.2914 - val_loss: 77.4257\n",
      "Epoch 13/20\n",
      "1369/1369 [==============================] - 42s 30ms/step - loss: 149.7028 - val_loss: 89.1568\n",
      "Epoch 14/20\n",
      "1369/1369 [==============================] - 41s 30ms/step - loss: 145.0816 - val_loss: 84.9829\n",
      "Epoch 15/20\n",
      "1369/1369 [==============================] - 42s 30ms/step - loss: 137.3615 - val_loss: 80.7684\n",
      "Epoch 16/20\n",
      "1369/1369 [==============================] - 43s 31ms/step - loss: 135.0880 - val_loss: 78.9515\n",
      "Epoch 17/20\n",
      "1369/1369 [==============================] - 44s 32ms/step - loss: 139.6922 - val_loss: 80.8347\n",
      "Epoch 18/20\n",
      "1369/1369 [==============================] - 44s 32ms/step - loss: 132.7339 - val_loss: 82.1682\n",
      "Epoch 19/20\n",
      "1369/1369 [==============================] - 43s 32ms/step - loss: 136.8989 - val_loss: 79.4926\n",
      "Epoch 20/20\n",
      "1369/1369 [==============================] - 42s 31ms/step - loss: 124.2494 - val_loss: 75.7608\n"
     ]
    }
   ],
   "source": [
    "history = model6.fit(X_train, Y_train, epochs=20,validation_data=(X_valid, Y_valid))"
   ]
  },
  {
   "cell_type": "code",
   "execution_count": 59,
   "id": "10c00565",
   "metadata": {},
   "outputs": [],
   "source": [
    "def plot_learning_curves(loss, val_loss):\n",
    "    plt.plot(np.arange(len(loss)) + 0.5, loss, \"b.\", label=\"Training loss\")\n",
    "    plt.plot(np.arange(len(val_loss)) + 1, val_loss, \"r-\", label=\"Validation loss\")\n",
    "    plt.gca().xaxis.set_major_locator(mpl.ticker.MaxNLocator(integer=True))\n",
    "    plt.legend(fontsize=14)\n",
    "    plt.xlabel(\"Epochs\")\n",
    "    plt.ylabel(\"Loss\")\n",
    "    plt.grid(True)"
   ]
  },
  {
   "cell_type": "code",
   "execution_count": 60,
   "id": "1dcbeb4f",
   "metadata": {
    "scrolled": true
   },
   "outputs": [
    {
     "data": {
      "image/png": "[encoded data removed]",
      "text/plain": [
       "<Figure size 432x288 with 1 Axes>"
      ]
     },
     "metadata": {
      "needs_background": "light"
     },
     "output_type": "display_data"
    }
   ],
   "source": [
    "plot_learning_curves(history.history[\"loss\"], history.history[\"val_loss\"])\n",
    "plt.show()"
   ]
  },
  {
   "cell_type": "markdown",
   "id": "ad2cb667",
   "metadata": {},
   "source": [
    "The training loss indicates how well the model is fitting the training data, while the validation loss indicates how well the model fits new data.\n",
    "\n",
    "We will see this combination later on, but for now, see below a typical plot showing both metrics"
   ]
  },
  {
   "cell_type": "code",
   "execution_count": 61,
   "id": "1030bf2b",
   "metadata": {},
   "outputs": [],
   "source": [
    "Y_pred = model6.predict(X_valid)\n",
    "\n",
    "last_list=[]\n",
    "\n",
    "for i in range (0, len(Y_pred)):\n",
    "  last_list.append((Y_pred[i][0][23]))\n",
    "    \n",
    "\n",
    "actual = pd.DataFrame((X_valid[:,0]))\n",
    "actual.rename(columns = {0:'actual'}, inplace = True)\n",
    "actual['predictions'] = last_list\n",
    "actual['difference'] = (actual['predictions'] - actual['actual']).abs()\n",
    "actual['difference_percentage'] = ((actual['difference'])/(actual['actual']))*100"
   ]
  },
  {
   "cell_type": "code",
   "execution_count": 63,
   "id": "ed3e813b",
   "metadata": {},
   "outputs": [
    {
     "data": {
      "text/plain": [
       "actual                    0.336769\n",
       "predictions               0.179830\n",
       "difference                0.175197\n",
       "difference_percentage    46.520979\n",
       "dtype: float64"
      ]
     },
     "execution_count": 63,
     "metadata": {},
     "output_type": "execute_result"
    }
   ],
   "source": [
    "actual[['actual', 'predictions','difference','difference_percentage']].mean()"
   ]
  },
  {
   "cell_type": "code",
   "execution_count": 62,
   "id": "5549e40a",
   "metadata": {},
   "outputs": [
    {
     "data": {
      "text/html": [
       "<div>\n",
       "<style scoped>\n",
       "    .dataframe tbody tr th:only-of-type {\n",
       "        vertical-align: middle;\n",
       "    }\n",
       "\n",
       "    .dataframe tbody tr th {\n",
       "        vertical-align: top;\n",
       "    }\n",
       "\n",
       "    .dataframe thead th {\n",
       "        text-align: right;\n",
       "    }\n",
       "</style>\n",
       "<table border=\"1\" class=\"dataframe\">\n",
       "  <thead>\n",
       "    <tr style=\"text-align: right;\">\n",
       "      <th></th>\n",
       "      <th>actual</th>\n",
       "      <th>predictions</th>\n",
       "      <th>difference</th>\n",
       "      <th>difference_percentage</th>\n",
       "    </tr>\n",
       "  </thead>\n",
       "  <tbody>\n",
       "    <tr>\n",
       "      <th>0</th>\n",
       "      <td>0.610343</td>\n",
       "      <td>0.136205</td>\n",
       "      <td>0.474138</td>\n",
       "      <td>77.683863</td>\n",
       "    </tr>\n",
       "    <tr>\n",
       "      <th>1</th>\n",
       "      <td>0.608511</td>\n",
       "      <td>0.133907</td>\n",
       "      <td>0.474604</td>\n",
       "      <td>77.994307</td>\n",
       "    </tr>\n",
       "    <tr>\n",
       "      <th>2</th>\n",
       "      <td>0.595679</td>\n",
       "      <td>0.134949</td>\n",
       "      <td>0.460729</td>\n",
       "      <td>77.345289</td>\n",
       "    </tr>\n",
       "    <tr>\n",
       "      <th>3</th>\n",
       "      <td>0.582382</td>\n",
       "      <td>0.135148</td>\n",
       "      <td>0.447234</td>\n",
       "      <td>76.793954</td>\n",
       "    </tr>\n",
       "    <tr>\n",
       "      <th>4</th>\n",
       "      <td>0.592313</td>\n",
       "      <td>0.136749</td>\n",
       "      <td>0.455564</td>\n",
       "      <td>76.912698</td>\n",
       "    </tr>\n",
       "    <tr>\n",
       "      <th>...</th>\n",
       "      <td>...</td>\n",
       "      <td>...</td>\n",
       "      <td>...</td>\n",
       "      <td>...</td>\n",
       "    </tr>\n",
       "    <tr>\n",
       "      <th>8609</th>\n",
       "      <td>0.725877</td>\n",
       "      <td>0.110346</td>\n",
       "      <td>0.615531</td>\n",
       "      <td>84.798248</td>\n",
       "    </tr>\n",
       "    <tr>\n",
       "      <th>8610</th>\n",
       "      <td>0.718912</td>\n",
       "      <td>0.100604</td>\n",
       "      <td>0.618308</td>\n",
       "      <td>86.006028</td>\n",
       "    </tr>\n",
       "    <tr>\n",
       "      <th>8611</th>\n",
       "      <td>0.686537</td>\n",
       "      <td>0.115790</td>\n",
       "      <td>0.570746</td>\n",
       "      <td>83.134148</td>\n",
       "    </tr>\n",
       "    <tr>\n",
       "      <th>8612</th>\n",
       "      <td>0.657029</td>\n",
       "      <td>0.122066</td>\n",
       "      <td>0.534964</td>\n",
       "      <td>81.421591</td>\n",
       "    </tr>\n",
       "    <tr>\n",
       "      <th>8613</th>\n",
       "      <td>0.524161</td>\n",
       "      <td>0.133856</td>\n",
       "      <td>0.390305</td>\n",
       "      <td>74.462725</td>\n",
       "    </tr>\n",
       "  </tbody>\n",
       "</table>\n",
       "<p>8614 rows × 4 columns</p>\n",
       "</div>"
      ],
      "text/plain": [
       "        actual  predictions  difference  difference_percentage\n",
       "0     0.610343     0.136205    0.474138              77.683863\n",
       "1     0.608511     0.133907    0.474604              77.994307\n",
       "2     0.595679     0.134949    0.460729              77.345289\n",
       "3     0.582382     0.135148    0.447234              76.793954\n",
       "4     0.592313     0.136749    0.455564              76.912698\n",
       "...        ...          ...         ...                    ...\n",
       "8609  0.725877     0.110346    0.615531              84.798248\n",
       "8610  0.718912     0.100604    0.618308              86.006028\n",
       "8611  0.686537     0.115790    0.570746              83.134148\n",
       "8612  0.657029     0.122066    0.534964              81.421591\n",
       "8613  0.524161     0.133856    0.390305              74.462725\n",
       "\n",
       "[8614 rows x 4 columns]"
      ]
     },
     "execution_count": 62,
     "metadata": {},
     "output_type": "execute_result"
    }
   ],
   "source": [
    "actual[['actual', 'predictions','difference','difference_percentage']]\n",
    "#El modelo es una basura, pero es algo"
   ]
  },
  {
   "cell_type": "markdown",
   "id": "9e3c4218",
   "metadata": {},
   "source": [
    "# Simple Long-Short Term Memory Model"
   ]
  },
  {
   "cell_type": "code",
   "execution_count": 66,
   "id": "a112acc0",
   "metadata": {},
   "outputs": [],
   "source": [
    "np.random.seed(42)\n",
    "tf.random.set_seed(42)\n",
    "\n",
    "model8 = keras.models.Sequential([\n",
    "    keras.layers.LSTM(20, return_sequences=True, input_shape=[None, 18]),\n",
    "    keras.layers.TimeDistributed(keras.layers.Dense(24))\n",
    "])\n",
    "\n",
    "model8.compile(loss=\"mape\", optimizer=\"adam\")"
   ]
  },
  {
   "cell_type": "code",
   "execution_count": 67,
   "id": "512e5900",
   "metadata": {},
   "outputs": [
    {
     "name": "stdout",
     "output_type": "stream",
     "text": [
      "Epoch 1/20\n",
      "1369/1369 [==============================] - 40s 29ms/step - loss: 413.4781 - val_loss: 97.3284\n",
      "Epoch 2/20\n",
      "1369/1369 [==============================] - 39s 29ms/step - loss: 204.6329 - val_loss: 87.4465\n",
      "Epoch 3/20\n",
      "1369/1369 [==============================] - 39s 29ms/step - loss: 135.4886 - val_loss: 69.0911\n",
      "Epoch 4/20\n",
      "1369/1369 [==============================] - 39s 29ms/step - loss: 106.0262 - val_loss: 62.9466\n",
      "Epoch 5/20\n",
      "1369/1369 [==============================] - 39s 29ms/step - loss: 83.1308 - val_loss: 62.8430\n",
      "Epoch 6/20\n",
      "1369/1369 [==============================] - 39s 29ms/step - loss: 75.0425 - val_loss: 52.3478\n",
      "Epoch 7/20\n",
      "1369/1369 [==============================] - 39s 29ms/step - loss: 66.3640 - val_loss: 48.3105\n",
      "Epoch 8/20\n",
      "1369/1369 [==============================] - 40s 29ms/step - loss: 62.8229 - val_loss: 45.2473\n",
      "Epoch 9/20\n",
      "1369/1369 [==============================] - 39s 28ms/step - loss: 65.9846 - val_loss: 51.7147\n",
      "Epoch 10/20\n",
      "1369/1369 [==============================] - 39s 28ms/step - loss: 54.0491 - val_loss: 41.5689\n",
      "Epoch 11/20\n",
      "1369/1369 [==============================] - 39s 29ms/step - loss: 49.8964 - val_loss: 40.3324\n",
      "Epoch 12/20\n",
      "1369/1369 [==============================] - 39s 29ms/step - loss: 53.3294 - val_loss: 37.8078\n",
      "Epoch 13/20\n",
      "1369/1369 [==============================] - 39s 28ms/step - loss: 47.5198 - val_loss: 35.0709\n",
      "Epoch 14/20\n",
      "1369/1369 [==============================] - 40s 29ms/step - loss: 48.8760 - val_loss: 31.9071\n",
      "Epoch 15/20\n",
      "1369/1369 [==============================] - 39s 29ms/step - loss: 46.3283 - val_loss: 31.5380\n",
      "Epoch 16/20\n",
      "1369/1369 [==============================] - 39s 28ms/step - loss: 44.6750 - val_loss: 27.8176\n",
      "Epoch 17/20\n",
      "1369/1369 [==============================] - 40s 29ms/step - loss: 43.8831 - val_loss: 26.5241\n",
      "Epoch 18/20\n",
      "1369/1369 [==============================] - 41s 30ms/step - loss: 44.7052 - val_loss: 26.8129\n",
      "Epoch 19/20\n",
      "1369/1369 [==============================] - 41s 30ms/step - loss: 47.4619 - val_loss: 29.7067\n",
      "Epoch 20/20\n",
      "1369/1369 [==============================] - 41s 30ms/step - loss: 41.9292 - val_loss: 27.3154\n"
     ]
    }
   ],
   "source": [
    "historyLSTM = model8.fit(X_train, Y_train, epochs=20,\n",
    "                    validation_data=(X_valid, Y_valid))"
   ]
  },
  {
   "cell_type": "code",
   "execution_count": 68,
   "id": "3dd813cd",
   "metadata": {},
   "outputs": [
    {
     "data": {
      "image/png": "[encoded data removed]",
      "text/plain": [
       "<Figure size 432x288 with 1 Axes>"
      ]
     },
     "metadata": {
      "needs_background": "light"
     },
     "output_type": "display_data"
    }
   ],
   "source": [
    "plot_learning_curves(historyLSTM.history[\"loss\"], historyLSTM.history[\"val_loss\"])\n",
    "plt.show()"
   ]
  },
  {
   "cell_type": "code",
   "execution_count": 69,
   "id": "dad74185",
   "metadata": {},
   "outputs": [
    {
     "data": {
      "text/plain": [
       "actual                    0.336769\n",
       "predictions               0.010740\n",
       "difference                0.326028\n",
       "difference_percentage    95.707278\n",
       "dtype: float64"
      ]
     },
     "execution_count": 69,
     "metadata": {},
     "output_type": "execute_result"
    }
   ],
   "source": [
    "Y_pred = model8.predict(X_valid)\n",
    "\n",
    "last_list=[]\n",
    "\n",
    "for i in range (0, len(Y_pred)):\n",
    "  last_list.append((Y_pred[i][0][23]))\n",
    "    \n",
    "\n",
    "actual = pd.DataFrame((X_valid[:,0]))\n",
    "actual.rename(columns = {0:'actual'}, inplace = True)\n",
    "actual['predictions'] = last_list\n",
    "actual['difference'] = (actual['predictions'] - actual['actual']).abs()\n",
    "actual['difference_percentage'] = ((actual['difference'])/(actual['actual']))*100\n",
    "\n",
    "# from google.colab import files\n",
    "# actual.to_csv('simplelstmresults.csv') \n",
    "# files.download('simplelstmresults.csv')\n",
    "\n",
    "actual[['actual', 'predictions','difference','difference_percentage']].mean()\n",
    "#El modelo es una basura, pero es algo"
   ]
  },
  {
   "cell_type": "code",
   "execution_count": 70,
   "id": "8fd949b4",
   "metadata": {},
   "outputs": [
    {
     "data": {
      "text/html": [
       "<div>\n",
       "<style scoped>\n",
       "    .dataframe tbody tr th:only-of-type {\n",
       "        vertical-align: middle;\n",
       "    }\n",
       "\n",
       "    .dataframe tbody tr th {\n",
       "        vertical-align: top;\n",
       "    }\n",
       "\n",
       "    .dataframe thead th {\n",
       "        text-align: right;\n",
       "    }\n",
       "</style>\n",
       "<table border=\"1\" class=\"dataframe\">\n",
       "  <thead>\n",
       "    <tr style=\"text-align: right;\">\n",
       "      <th></th>\n",
       "      <th>actual</th>\n",
       "      <th>predictions</th>\n",
       "      <th>difference</th>\n",
       "      <th>difference_percentage</th>\n",
       "    </tr>\n",
       "  </thead>\n",
       "  <tbody>\n",
       "    <tr>\n",
       "      <th>0</th>\n",
       "      <td>0.610343</td>\n",
       "      <td>0.003521</td>\n",
       "      <td>0.606822</td>\n",
       "      <td>99.423083</td>\n",
       "    </tr>\n",
       "    <tr>\n",
       "      <th>1</th>\n",
       "      <td>0.608511</td>\n",
       "      <td>0.003342</td>\n",
       "      <td>0.605168</td>\n",
       "      <td>99.450722</td>\n",
       "    </tr>\n",
       "    <tr>\n",
       "      <th>2</th>\n",
       "      <td>0.595679</td>\n",
       "      <td>0.003253</td>\n",
       "      <td>0.592426</td>\n",
       "      <td>99.453911</td>\n",
       "    </tr>\n",
       "    <tr>\n",
       "      <th>3</th>\n",
       "      <td>0.582382</td>\n",
       "      <td>0.003255</td>\n",
       "      <td>0.579126</td>\n",
       "      <td>99.441039</td>\n",
       "    </tr>\n",
       "    <tr>\n",
       "      <th>4</th>\n",
       "      <td>0.592313</td>\n",
       "      <td>0.003573</td>\n",
       "      <td>0.588740</td>\n",
       "      <td>99.396806</td>\n",
       "    </tr>\n",
       "    <tr>\n",
       "      <th>...</th>\n",
       "      <td>...</td>\n",
       "      <td>...</td>\n",
       "      <td>...</td>\n",
       "      <td>...</td>\n",
       "    </tr>\n",
       "    <tr>\n",
       "      <th>8609</th>\n",
       "      <td>0.725877</td>\n",
       "      <td>0.002047</td>\n",
       "      <td>0.723830</td>\n",
       "      <td>99.717954</td>\n",
       "    </tr>\n",
       "    <tr>\n",
       "      <th>8610</th>\n",
       "      <td>0.718912</td>\n",
       "      <td>0.001834</td>\n",
       "      <td>0.717078</td>\n",
       "      <td>99.744873</td>\n",
       "    </tr>\n",
       "    <tr>\n",
       "      <th>8611</th>\n",
       "      <td>0.686537</td>\n",
       "      <td>0.002343</td>\n",
       "      <td>0.684194</td>\n",
       "      <td>99.658793</td>\n",
       "    </tr>\n",
       "    <tr>\n",
       "      <th>8612</th>\n",
       "      <td>0.657029</td>\n",
       "      <td>0.003088</td>\n",
       "      <td>0.653941</td>\n",
       "      <td>99.529932</td>\n",
       "    </tr>\n",
       "    <tr>\n",
       "      <th>8613</th>\n",
       "      <td>0.524161</td>\n",
       "      <td>0.003742</td>\n",
       "      <td>0.520419</td>\n",
       "      <td>99.286055</td>\n",
       "    </tr>\n",
       "  </tbody>\n",
       "</table>\n",
       "<p>8614 rows × 4 columns</p>\n",
       "</div>"
      ],
      "text/plain": [
       "        actual  predictions  difference  difference_percentage\n",
       "0     0.610343     0.003521    0.606822              99.423083\n",
       "1     0.608511     0.003342    0.605168              99.450722\n",
       "2     0.595679     0.003253    0.592426              99.453911\n",
       "3     0.582382     0.003255    0.579126              99.441039\n",
       "4     0.592313     0.003573    0.588740              99.396806\n",
       "...        ...          ...         ...                    ...\n",
       "8609  0.725877     0.002047    0.723830              99.717954\n",
       "8610  0.718912     0.001834    0.717078              99.744873\n",
       "8611  0.686537     0.002343    0.684194              99.658793\n",
       "8612  0.657029     0.003088    0.653941              99.529932\n",
       "8613  0.524161     0.003742    0.520419              99.286055\n",
       "\n",
       "[8614 rows x 4 columns]"
      ]
     },
     "execution_count": 70,
     "metadata": {},
     "output_type": "execute_result"
    }
   ],
   "source": [
    "actual[['actual', 'predictions','difference','difference_percentage']]"
   ]
  },
  {
   "cell_type": "markdown",
   "id": "1ffa7932",
   "metadata": {},
   "source": [
    "# Deep LSTM model"
   ]
  },
  {
   "cell_type": "markdown",
   "id": "30e821eb",
   "metadata": {},
   "source": [
    "## Model9"
   ]
  },
  {
   "cell_type": "code",
   "execution_count": 24,
   "id": "276a1985",
   "metadata": {},
   "outputs": [],
   "source": [
    "np.random.seed(42)\n",
    "tf.random.set_seed(42)\n",
    "\n",
    "model9 = keras.models.Sequential([\n",
    "    keras.layers.LSTM(80, return_sequences= True, input_shape=(168,18)),\n",
    "    keras.layers.Dropout(0.2),\n",
    "    keras.layers.LSTM(40, return_sequences= True),\n",
    "    keras.layers.Dropout(0.2),\n",
    "    keras.layers.LSTM(30, return_sequences= True),\n",
    "    keras.layers.TimeDistributed(keras.layers.Dense(24))\n",
    "])\n",
    "\n",
    "model9.compile(loss=\"mape\", optimizer=\"adam\")"
   ]
  },
  {
   "cell_type": "code",
   "execution_count": 25,
   "id": "ff28d444",
   "metadata": {},
   "outputs": [
    {
     "name": "stdout",
     "output_type": "stream",
     "text": [
      "Epoch 1/20\n",
      "1369/1369 [==============================] - 164s 120ms/step - loss: 304.1299 - val_loss: 98.3917\n",
      "Epoch 2/20\n",
      "1369/1369 [==============================] - 162s 119ms/step - loss: 127.0555 - val_loss: 50.0738\n",
      "Epoch 3/20\n",
      "1369/1369 [==============================] - 164s 120ms/step - loss: 74.8132 - val_loss: 32.9611\n",
      "Epoch 4/20\n",
      "1369/1369 [==============================] - 164s 120ms/step - loss: 67.1038 - val_loss: 31.2681\n",
      "Epoch 5/20\n",
      "1369/1369 [==============================] - 165s 120ms/step - loss: 59.0991 - val_loss: 29.9313\n",
      "Epoch 6/20\n",
      "1369/1369 [==============================] - 165s 120ms/step - loss: 52.1481 - val_loss: 25.7202\n",
      "Epoch 7/20\n",
      "1369/1369 [==============================] - 160s 117ms/step - loss: 51.4669 - val_loss: 28.9055\n"
     ]
    }
   ],
   "source": [
    "history9 = model9.fit(X_train, Y_train, epochs=20,\n",
    "                    validation_data=(X_valid, Y_valid), callbacks = [es] )"
   ]
  },
  {
   "cell_type": "code",
   "execution_count": 71,
   "id": "8edf529f",
   "metadata": {},
   "outputs": [
    {
     "data": {
      "image/png": "[encoded data removed]",
      "text/plain": [
       "<Figure size 432x288 with 1 Axes>"
      ]
     },
     "metadata": {
      "needs_background": "light"
     },
     "output_type": "display_data"
    }
   ],
   "source": [
    "plot_learning_curves(history9.history[\"loss\"], history9.history[\"val_loss\"])\n",
    "plt.show()"
   ]
  },
  {
   "cell_type": "code",
   "execution_count": 29,
   "id": "5b832a93",
   "metadata": {},
   "outputs": [
    {
     "data": {
      "text/plain": [
       "actual                    0.336769\n",
       "predictions               0.000946\n",
       "difference                0.335823\n",
       "difference_percentage    99.638219\n",
       "dtype: float64"
      ]
     },
     "execution_count": 29,
     "metadata": {},
     "output_type": "execute_result"
    }
   ],
   "source": [
    "Y_pred = model9.predict(X_valid)\n",
    "\n",
    "last_list=[]\n",
    "\n",
    "for i in range (0, len(Y_pred)):\n",
    "  last_list.append((Y_pred[i][0][23]))\n",
    "    \n",
    "\n",
    "actual = pd.DataFrame((X_valid[:,0]))\n",
    "actual.rename(columns = {0:'actual'}, inplace = True)\n",
    "actual['predictions'] = last_list\n",
    "actual['difference'] = (actual['predictions'] - actual['actual']).abs()\n",
    "actual['difference_percentage'] = ((actual['difference'])/(actual['actual']))*100\n",
    "\n",
    "# from google.colab import files\n",
    "# actual.to_csv('deeplstmresults.csv') \n",
    "# files.download('deeplstmresults.csv')\n",
    "\n",
    "actual[['actual', 'predictions','difference','difference_percentage']].mean()\n",
    "#El modelo es una basura, pero es algo"
   ]
  },
  {
   "cell_type": "code",
   "execution_count": 30,
   "id": "903dd6ca",
   "metadata": {},
   "outputs": [
    {
     "data": {
      "text/html": [
       "<div>\n",
       "<style scoped>\n",
       "    .dataframe tbody tr th:only-of-type {\n",
       "        vertical-align: middle;\n",
       "    }\n",
       "\n",
       "    .dataframe tbody tr th {\n",
       "        vertical-align: top;\n",
       "    }\n",
       "\n",
       "    .dataframe thead th {\n",
       "        text-align: right;\n",
       "    }\n",
       "</style>\n",
       "<table border=\"1\" class=\"dataframe\">\n",
       "  <thead>\n",
       "    <tr style=\"text-align: right;\">\n",
       "      <th></th>\n",
       "      <th>actual</th>\n",
       "      <th>predictions</th>\n",
       "      <th>difference</th>\n",
       "      <th>difference_percentage</th>\n",
       "    </tr>\n",
       "  </thead>\n",
       "  <tbody>\n",
       "    <tr>\n",
       "      <th>0</th>\n",
       "      <td>0.610343</td>\n",
       "      <td>0.000684</td>\n",
       "      <td>0.609659</td>\n",
       "      <td>99.887900</td>\n",
       "    </tr>\n",
       "    <tr>\n",
       "      <th>1</th>\n",
       "      <td>0.608511</td>\n",
       "      <td>0.000680</td>\n",
       "      <td>0.607831</td>\n",
       "      <td>99.888314</td>\n",
       "    </tr>\n",
       "    <tr>\n",
       "      <th>2</th>\n",
       "      <td>0.595679</td>\n",
       "      <td>0.000677</td>\n",
       "      <td>0.595001</td>\n",
       "      <td>99.886322</td>\n",
       "    </tr>\n",
       "    <tr>\n",
       "      <th>3</th>\n",
       "      <td>0.582382</td>\n",
       "      <td>0.000677</td>\n",
       "      <td>0.581705</td>\n",
       "      <td>99.883742</td>\n",
       "    </tr>\n",
       "    <tr>\n",
       "      <th>4</th>\n",
       "      <td>0.592313</td>\n",
       "      <td>0.000686</td>\n",
       "      <td>0.591627</td>\n",
       "      <td>99.884128</td>\n",
       "    </tr>\n",
       "    <tr>\n",
       "      <th>...</th>\n",
       "      <td>...</td>\n",
       "      <td>...</td>\n",
       "      <td>...</td>\n",
       "      <td>...</td>\n",
       "    </tr>\n",
       "    <tr>\n",
       "      <th>8609</th>\n",
       "      <td>0.725877</td>\n",
       "      <td>0.000681</td>\n",
       "      <td>0.725196</td>\n",
       "      <td>99.906142</td>\n",
       "    </tr>\n",
       "    <tr>\n",
       "      <th>8610</th>\n",
       "      <td>0.718912</td>\n",
       "      <td>0.000673</td>\n",
       "      <td>0.718240</td>\n",
       "      <td>99.906442</td>\n",
       "    </tr>\n",
       "    <tr>\n",
       "      <th>8611</th>\n",
       "      <td>0.686537</td>\n",
       "      <td>0.000689</td>\n",
       "      <td>0.685847</td>\n",
       "      <td>99.899575</td>\n",
       "    </tr>\n",
       "    <tr>\n",
       "      <th>8612</th>\n",
       "      <td>0.657029</td>\n",
       "      <td>0.000706</td>\n",
       "      <td>0.656323</td>\n",
       "      <td>99.892494</td>\n",
       "    </tr>\n",
       "    <tr>\n",
       "      <th>8613</th>\n",
       "      <td>0.524161</td>\n",
       "      <td>0.000719</td>\n",
       "      <td>0.523442</td>\n",
       "      <td>99.862751</td>\n",
       "    </tr>\n",
       "  </tbody>\n",
       "</table>\n",
       "<p>8614 rows × 4 columns</p>\n",
       "</div>"
      ],
      "text/plain": [
       "        actual  predictions  difference  difference_percentage\n",
       "0     0.610343     0.000684    0.609659              99.887900\n",
       "1     0.608511     0.000680    0.607831              99.888314\n",
       "2     0.595679     0.000677    0.595001              99.886322\n",
       "3     0.582382     0.000677    0.581705              99.883742\n",
       "4     0.592313     0.000686    0.591627              99.884128\n",
       "...        ...          ...         ...                    ...\n",
       "8609  0.725877     0.000681    0.725196              99.906142\n",
       "8610  0.718912     0.000673    0.718240              99.906442\n",
       "8611  0.686537     0.000689    0.685847              99.899575\n",
       "8612  0.657029     0.000706    0.656323              99.892494\n",
       "8613  0.524161     0.000719    0.523442              99.862751\n",
       "\n",
       "[8614 rows x 4 columns]"
      ]
     },
     "execution_count": 30,
     "metadata": {},
     "output_type": "execute_result"
    }
   ],
   "source": [
    "actual[['actual', 'predictions','difference','difference_percentage']]"
   ]
  },
  {
   "cell_type": "markdown",
   "id": "fb4479d2",
   "metadata": {},
   "source": [
    "## Model10"
   ]
  },
  {
   "cell_type": "code",
   "execution_count": 35,
   "id": "1275c26f",
   "metadata": {},
   "outputs": [],
   "source": [
    "\n",
    "np.random.seed(42)\n",
    "tf.random.set_seed(42)\n",
    "\n",
    "model10 = keras.models.Sequential([\n",
    "    keras.layers.Conv1D(filters=20, kernel_size=4, strides=2, padding=\"valid\",\n",
    "                        input_shape=[None, 18]),\n",
    "    keras.layers.GRU(60, return_sequences=True),\n",
    "    keras.layers.GRU(40, return_sequences=True),\n",
    "    keras.layers.TimeDistributed(keras.layers.Dense(24))\n",
    "])\n",
    "\n",
    "model10.compile(loss=\"mape\", optimizer=\"adam\")"
   ]
  },
  {
   "cell_type": "code",
   "execution_count": 36,
   "id": "708c3f43",
   "metadata": {},
   "outputs": [
    {
     "name": "stdout",
     "output_type": "stream",
     "text": [
      "Epoch 1/20\n",
      "1369/1369 [==============================] - 59s 43ms/step - loss: 574.2936 - val_loss: 91.4105\n",
      "Epoch 2/20\n",
      "1369/1369 [==============================] - 58s 43ms/step - loss: 294.5468 - val_loss: 73.1237\n",
      "Epoch 3/20\n",
      "1369/1369 [==============================] - 57s 41ms/step - loss: 234.8676 - val_loss: 50.3499\n",
      "Epoch 4/20\n",
      "1369/1369 [==============================] - 57s 41ms/step - loss: 153.3560 - val_loss: 45.5043\n",
      "Epoch 5/20\n",
      "1369/1369 [==============================] - 57s 41ms/step - loss: 117.1894 - val_loss: 44.7281\n",
      "Epoch 6/20\n",
      "1369/1369 [==============================] - 57s 42ms/step - loss: 106.6554 - val_loss: 39.1456\n",
      "Epoch 7/20\n",
      "1369/1369 [==============================] - 57s 42ms/step - loss: 103.7091 - val_loss: 37.1882\n",
      "Epoch 8/20\n",
      "1369/1369 [==============================] - 57s 42ms/step - loss: 87.9970 - val_loss: 32.8556\n",
      "Epoch 9/20\n",
      "1369/1369 [==============================] - 57s 42ms/step - loss: 90.9110 - val_loss: 37.6010\n"
     ]
    }
   ],
   "source": [
    "history2 = model10.fit(X_train, Y_train[:, 3::2], epochs=20,\n",
    "                    validation_data=(X_valid, Y_valid[:, 3::2]), callbacks = [es])"
   ]
  },
  {
   "cell_type": "code",
   "execution_count": 39,
   "id": "f747b4c8",
   "metadata": {},
   "outputs": [
    {
     "data": {
      "image/png": "[encoded data removed]",
      "text/plain": [
       "<Figure size 432x288 with 1 Axes>"
      ]
     },
     "metadata": {
      "needs_background": "light"
     },
     "output_type": "display_data"
    }
   ],
   "source": [
    "plot_learning_curves(history2.history[\"loss\"], history2.history[\"val_loss\"])\n",
    "plt.show()"
   ]
  },
  {
   "cell_type": "code",
   "execution_count": 41,
   "id": "39c8e883",
   "metadata": {},
   "outputs": [
    {
     "data": {
      "text/plain": [
       "(8614, 83, 24)"
      ]
     },
     "execution_count": 41,
     "metadata": {},
     "output_type": "execute_result"
    }
   ],
   "source": [
    "Y_pred = model10.predict(X_valid)\n",
    "Y_pred.shape"
   ]
  },
  {
   "cell_type": "code",
   "execution_count": 42,
   "id": "0a9a4083",
   "metadata": {},
   "outputs": [
    {
     "data": {
      "text/plain": [
       "actual                    0.336769\n",
       "predictions               0.127265\n",
       "difference                0.231401\n",
       "difference_percentage    66.185280\n",
       "dtype: float64"
      ]
     },
     "execution_count": 42,
     "metadata": {},
     "output_type": "execute_result"
    }
   ],
   "source": [
    "Y_pred = model10.predict(X_valid)\n",
    "\n",
    "last_list=[]\n",
    "\n",
    "for i in range (0, len(Y_pred)):\n",
    "  last_list.append((Y_pred[i][3::2][0][23]))\n",
    "    \n",
    "\n",
    "actual = pd.DataFrame(X_valid[: , 0, 0])\n",
    "actual.rename(columns = {0:'actual'}, inplace = True)\n",
    "actual['predictions'] = last_list\n",
    "actual['difference'] = (actual['predictions'] - actual['actual']).abs()\n",
    "actual['difference_percentage'] = ((actual['difference'])/(actual['actual']))*100\n",
    "\n",
    "# from google.colab import files\n",
    "# actual.to_csv('convlayerresults.csv') \n",
    "# files.download('convlayerresults.csv')\n",
    "\n",
    "actual[['actual', 'predictions','difference','difference_percentage']].mean()\n",
    "#El modelo es una basura, pero es algo"
   ]
  },
  {
   "cell_type": "code",
   "execution_count": 43,
   "id": "4ae6f063",
   "metadata": {},
   "outputs": [
    {
     "data": {
      "text/html": [
       "<div>\n",
       "<style scoped>\n",
       "    .dataframe tbody tr th:only-of-type {\n",
       "        vertical-align: middle;\n",
       "    }\n",
       "\n",
       "    .dataframe tbody tr th {\n",
       "        vertical-align: top;\n",
       "    }\n",
       "\n",
       "    .dataframe thead th {\n",
       "        text-align: right;\n",
       "    }\n",
       "</style>\n",
       "<table border=\"1\" class=\"dataframe\">\n",
       "  <thead>\n",
       "    <tr style=\"text-align: right;\">\n",
       "      <th></th>\n",
       "      <th>actual</th>\n",
       "      <th>predictions</th>\n",
       "      <th>difference</th>\n",
       "      <th>difference_percentage</th>\n",
       "    </tr>\n",
       "  </thead>\n",
       "  <tbody>\n",
       "    <tr>\n",
       "      <th>0</th>\n",
       "      <td>0.610343</td>\n",
       "      <td>0.000701</td>\n",
       "      <td>0.609642</td>\n",
       "      <td>99.885142</td>\n",
       "    </tr>\n",
       "    <tr>\n",
       "      <th>1</th>\n",
       "      <td>0.608511</td>\n",
       "      <td>0.000886</td>\n",
       "      <td>0.607624</td>\n",
       "      <td>99.854348</td>\n",
       "    </tr>\n",
       "    <tr>\n",
       "      <th>2</th>\n",
       "      <td>0.595679</td>\n",
       "      <td>0.000957</td>\n",
       "      <td>0.594722</td>\n",
       "      <td>99.839360</td>\n",
       "    </tr>\n",
       "    <tr>\n",
       "      <th>3</th>\n",
       "      <td>0.582382</td>\n",
       "      <td>0.001259</td>\n",
       "      <td>0.581122</td>\n",
       "      <td>99.783804</td>\n",
       "    </tr>\n",
       "    <tr>\n",
       "      <th>4</th>\n",
       "      <td>0.592313</td>\n",
       "      <td>0.001752</td>\n",
       "      <td>0.590561</td>\n",
       "      <td>99.704216</td>\n",
       "    </tr>\n",
       "    <tr>\n",
       "      <th>...</th>\n",
       "      <td>...</td>\n",
       "      <td>...</td>\n",
       "      <td>...</td>\n",
       "      <td>...</td>\n",
       "    </tr>\n",
       "    <tr>\n",
       "      <th>8609</th>\n",
       "      <td>0.725877</td>\n",
       "      <td>0.021218</td>\n",
       "      <td>0.704660</td>\n",
       "      <td>97.076932</td>\n",
       "    </tr>\n",
       "    <tr>\n",
       "      <th>8610</th>\n",
       "      <td>0.718912</td>\n",
       "      <td>0.017639</td>\n",
       "      <td>0.701273</td>\n",
       "      <td>97.546440</td>\n",
       "    </tr>\n",
       "    <tr>\n",
       "      <th>8611</th>\n",
       "      <td>0.686537</td>\n",
       "      <td>0.014456</td>\n",
       "      <td>0.672081</td>\n",
       "      <td>97.894418</td>\n",
       "    </tr>\n",
       "    <tr>\n",
       "      <th>8612</th>\n",
       "      <td>0.657029</td>\n",
       "      <td>0.009518</td>\n",
       "      <td>0.647512</td>\n",
       "      <td>98.551419</td>\n",
       "    </tr>\n",
       "    <tr>\n",
       "      <th>8613</th>\n",
       "      <td>0.524161</td>\n",
       "      <td>0.007015</td>\n",
       "      <td>0.517146</td>\n",
       "      <td>98.661648</td>\n",
       "    </tr>\n",
       "  </tbody>\n",
       "</table>\n",
       "<p>8614 rows × 4 columns</p>\n",
       "</div>"
      ],
      "text/plain": [
       "        actual  predictions  difference  difference_percentage\n",
       "0     0.610343     0.000701    0.609642              99.885142\n",
       "1     0.608511     0.000886    0.607624              99.854348\n",
       "2     0.595679     0.000957    0.594722              99.839360\n",
       "3     0.582382     0.001259    0.581122              99.783804\n",
       "4     0.592313     0.001752    0.590561              99.704216\n",
       "...        ...          ...         ...                    ...\n",
       "8609  0.725877     0.021218    0.704660              97.076932\n",
       "8610  0.718912     0.017639    0.701273              97.546440\n",
       "8611  0.686537     0.014456    0.672081              97.894418\n",
       "8612  0.657029     0.009518    0.647512              98.551419\n",
       "8613  0.524161     0.007015    0.517146              98.661648\n",
       "\n",
       "[8614 rows x 4 columns]"
      ]
     },
     "execution_count": 43,
     "metadata": {},
     "output_type": "execute_result"
    }
   ],
   "source": [
    "actual[['actual', 'predictions','difference','difference_percentage']]"
   ]
  }
 ],
 "metadata": {
  "kernelspec": {
   "display_name": "Python 3",
   "language": "python",
   "name": "python3"
  },
  "language_info": {
   "codemirror_mode": {
    "name": "ipython",
    "version": 3
   },
   "file_extension": ".py",
   "mimetype": "text/x-python",
   "name": "python",
   "nbconvert_exporter": "python",
   "pygments_lexer": "ipython3",
   "version": "3.8.5"
  },
  "toc": {
   "base_numbering": 1,
   "nav_menu": {},
   "number_sections": true,
   "sideBar": true,
   "skip_h1_title": false,
   "title_cell": "Table of Contents",
   "title_sidebar": "Contents",
   "toc_cell": false,
   "toc_position": {},
   "toc_section_display": true,
   "toc_window_display": false
  },
  "varInspector": {
   "cols": {
    "lenName": 16,
    "lenType": 16,
    "lenVar": 40
   },
   "kernels_config": {
    "python": {
     "delete_cmd_postfix": "",
     "delete_cmd_prefix": "del ",
     "library": "var_list.py",
     "varRefreshCmd": "print(var_dic_list())"
    },
    "r": {
     "delete_cmd_postfix": ") ",
     "delete_cmd_prefix": "rm(",
     "library": "var_list.r",
     "varRefreshCmd": "cat(var_dic_list()) "
    }
   },
   "types_to_exclude": [
    "module",
    "function",
    "builtin_function_or_method",
    "instance",
    "_Feature"
   ],
   "window_display": false
  }
 },
 "nbformat": 4,
 "nbformat_minor": 5
}
